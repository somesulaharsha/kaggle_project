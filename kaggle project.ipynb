{
 "cells": [
  {
   "cell_type": "markdown",
   "metadata": {
    "ExecuteTime": {
     "end_time": "2018-08-30T16:41:18.612485Z",
     "start_time": "2018-08-30T16:41:18.609486Z"
    }
   },
   "source": [
    "### Import Libraries"
   ]
  },
  {
   "cell_type": "code",
   "execution_count": 1,
   "metadata": {
    "ExecuteTime": {
     "end_time": "2018-09-22T13:20:20.575903Z",
     "start_time": "2018-09-22T13:20:14.278088Z"
    }
   },
   "outputs": [],
   "source": [
    "import numpy as np\n",
    "import pandas as pd\n",
    "import scipy.stats as stats\n",
    "import matplotlib.pyplot as plt\n",
    "import sklearn\n",
    "from sklearn.datasets import load_boston\n",
    "boston = load_boston()\n",
    "bos = pd.DataFrame(boston.data)"
   ]
  },
  {
   "cell_type": "markdown",
   "metadata": {},
   "source": [
    "### Read Data"
   ]
  },
  {
   "cell_type": "code",
   "execution_count": 2,
   "metadata": {
    "ExecuteTime": {
     "end_time": "2018-09-22T13:21:06.246699Z",
     "start_time": "2018-09-22T13:21:06.153755Z"
    }
   },
   "outputs": [
    {
     "data": {
      "text/html": [
       "<div>\n",
       "<style scoped>\n",
       "    .dataframe tbody tr th:only-of-type {\n",
       "        vertical-align: middle;\n",
       "    }\n",
       "\n",
       "    .dataframe tbody tr th {\n",
       "        vertical-align: top;\n",
       "    }\n",
       "\n",
       "    .dataframe thead th {\n",
       "        text-align: right;\n",
       "    }\n",
       "</style>\n",
       "<table border=\"1\" class=\"dataframe\">\n",
       "  <thead>\n",
       "    <tr style=\"text-align: right;\">\n",
       "      <th></th>\n",
       "      <th>0</th>\n",
       "      <th>1</th>\n",
       "      <th>2</th>\n",
       "      <th>3</th>\n",
       "      <th>4</th>\n",
       "      <th>5</th>\n",
       "      <th>6</th>\n",
       "      <th>7</th>\n",
       "      <th>8</th>\n",
       "      <th>9</th>\n",
       "      <th>10</th>\n",
       "      <th>11</th>\n",
       "      <th>12</th>\n",
       "    </tr>\n",
       "  </thead>\n",
       "  <tbody>\n",
       "    <tr>\n",
       "      <th>0</th>\n",
       "      <td>0.00632</td>\n",
       "      <td>18.0</td>\n",
       "      <td>2.31</td>\n",
       "      <td>0.0</td>\n",
       "      <td>0.538</td>\n",
       "      <td>6.575</td>\n",
       "      <td>65.2</td>\n",
       "      <td>4.0900</td>\n",
       "      <td>1.0</td>\n",
       "      <td>296.0</td>\n",
       "      <td>15.3</td>\n",
       "      <td>396.90</td>\n",
       "      <td>4.98</td>\n",
       "    </tr>\n",
       "    <tr>\n",
       "      <th>1</th>\n",
       "      <td>0.02731</td>\n",
       "      <td>0.0</td>\n",
       "      <td>7.07</td>\n",
       "      <td>0.0</td>\n",
       "      <td>0.469</td>\n",
       "      <td>6.421</td>\n",
       "      <td>78.9</td>\n",
       "      <td>4.9671</td>\n",
       "      <td>2.0</td>\n",
       "      <td>242.0</td>\n",
       "      <td>17.8</td>\n",
       "      <td>396.90</td>\n",
       "      <td>9.14</td>\n",
       "    </tr>\n",
       "    <tr>\n",
       "      <th>2</th>\n",
       "      <td>0.02729</td>\n",
       "      <td>0.0</td>\n",
       "      <td>7.07</td>\n",
       "      <td>0.0</td>\n",
       "      <td>0.469</td>\n",
       "      <td>7.185</td>\n",
       "      <td>61.1</td>\n",
       "      <td>4.9671</td>\n",
       "      <td>2.0</td>\n",
       "      <td>242.0</td>\n",
       "      <td>17.8</td>\n",
       "      <td>392.83</td>\n",
       "      <td>4.03</td>\n",
       "    </tr>\n",
       "    <tr>\n",
       "      <th>3</th>\n",
       "      <td>0.03237</td>\n",
       "      <td>0.0</td>\n",
       "      <td>2.18</td>\n",
       "      <td>0.0</td>\n",
       "      <td>0.458</td>\n",
       "      <td>6.998</td>\n",
       "      <td>45.8</td>\n",
       "      <td>6.0622</td>\n",
       "      <td>3.0</td>\n",
       "      <td>222.0</td>\n",
       "      <td>18.7</td>\n",
       "      <td>394.63</td>\n",
       "      <td>2.94</td>\n",
       "    </tr>\n",
       "    <tr>\n",
       "      <th>4</th>\n",
       "      <td>0.06905</td>\n",
       "      <td>0.0</td>\n",
       "      <td>2.18</td>\n",
       "      <td>0.0</td>\n",
       "      <td>0.458</td>\n",
       "      <td>7.147</td>\n",
       "      <td>54.2</td>\n",
       "      <td>6.0622</td>\n",
       "      <td>3.0</td>\n",
       "      <td>222.0</td>\n",
       "      <td>18.7</td>\n",
       "      <td>396.90</td>\n",
       "      <td>5.33</td>\n",
       "    </tr>\n",
       "  </tbody>\n",
       "</table>\n",
       "</div>"
      ],
      "text/plain": [
       "        0     1     2    3      4      5     6       7    8      9     10  \\\n",
       "0  0.00632  18.0  2.31  0.0  0.538  6.575  65.2  4.0900  1.0  296.0  15.3   \n",
       "1  0.02731   0.0  7.07  0.0  0.469  6.421  78.9  4.9671  2.0  242.0  17.8   \n",
       "2  0.02729   0.0  7.07  0.0  0.469  7.185  61.1  4.9671  2.0  242.0  17.8   \n",
       "3  0.03237   0.0  2.18  0.0  0.458  6.998  45.8  6.0622  3.0  222.0  18.7   \n",
       "4  0.06905   0.0  2.18  0.0  0.458  7.147  54.2  6.0622  3.0  222.0  18.7   \n",
       "\n",
       "       11    12  \n",
       "0  396.90  4.98  \n",
       "1  396.90  9.14  \n",
       "2  392.83  4.03  \n",
       "3  394.63  2.94  \n",
       "4  396.90  5.33  "
      ]
     },
     "execution_count": 2,
     "metadata": {},
     "output_type": "execute_result"
    }
   ],
   "source": [
    "bos.head()"
   ]
  },
  {
   "cell_type": "code",
   "execution_count": 3,
   "metadata": {
    "ExecuteTime": {
     "end_time": "2018-09-22T13:21:09.991714Z",
     "start_time": "2018-09-22T13:21:09.940743Z"
    }
   },
   "outputs": [
    {
     "data": {
      "text/html": [
       "<div>\n",
       "<style scoped>\n",
       "    .dataframe tbody tr th:only-of-type {\n",
       "        vertical-align: middle;\n",
       "    }\n",
       "\n",
       "    .dataframe tbody tr th {\n",
       "        vertical-align: top;\n",
       "    }\n",
       "\n",
       "    .dataframe thead th {\n",
       "        text-align: right;\n",
       "    }\n",
       "</style>\n",
       "<table border=\"1\" class=\"dataframe\">\n",
       "  <thead>\n",
       "    <tr style=\"text-align: right;\">\n",
       "      <th></th>\n",
       "      <th>0</th>\n",
       "      <th>1</th>\n",
       "      <th>2</th>\n",
       "      <th>3</th>\n",
       "      <th>4</th>\n",
       "      <th>5</th>\n",
       "      <th>6</th>\n",
       "      <th>7</th>\n",
       "      <th>8</th>\n",
       "      <th>9</th>\n",
       "      <th>10</th>\n",
       "      <th>11</th>\n",
       "      <th>12</th>\n",
       "    </tr>\n",
       "  </thead>\n",
       "  <tbody>\n",
       "    <tr>\n",
       "      <th>count</th>\n",
       "      <td>506.000000</td>\n",
       "      <td>506.000000</td>\n",
       "      <td>506.000000</td>\n",
       "      <td>506.000000</td>\n",
       "      <td>506.000000</td>\n",
       "      <td>506.000000</td>\n",
       "      <td>506.000000</td>\n",
       "      <td>506.000000</td>\n",
       "      <td>506.000000</td>\n",
       "      <td>506.000000</td>\n",
       "      <td>506.000000</td>\n",
       "      <td>506.000000</td>\n",
       "      <td>506.000000</td>\n",
       "    </tr>\n",
       "    <tr>\n",
       "      <th>mean</th>\n",
       "      <td>3.593761</td>\n",
       "      <td>11.363636</td>\n",
       "      <td>11.136779</td>\n",
       "      <td>0.069170</td>\n",
       "      <td>0.554695</td>\n",
       "      <td>6.284634</td>\n",
       "      <td>68.574901</td>\n",
       "      <td>3.795043</td>\n",
       "      <td>9.549407</td>\n",
       "      <td>408.237154</td>\n",
       "      <td>18.455534</td>\n",
       "      <td>356.674032</td>\n",
       "      <td>12.653063</td>\n",
       "    </tr>\n",
       "    <tr>\n",
       "      <th>std</th>\n",
       "      <td>8.596783</td>\n",
       "      <td>23.322453</td>\n",
       "      <td>6.860353</td>\n",
       "      <td>0.253994</td>\n",
       "      <td>0.115878</td>\n",
       "      <td>0.702617</td>\n",
       "      <td>28.148861</td>\n",
       "      <td>2.105710</td>\n",
       "      <td>8.707259</td>\n",
       "      <td>168.537116</td>\n",
       "      <td>2.164946</td>\n",
       "      <td>91.294864</td>\n",
       "      <td>7.141062</td>\n",
       "    </tr>\n",
       "    <tr>\n",
       "      <th>min</th>\n",
       "      <td>0.006320</td>\n",
       "      <td>0.000000</td>\n",
       "      <td>0.460000</td>\n",
       "      <td>0.000000</td>\n",
       "      <td>0.385000</td>\n",
       "      <td>3.561000</td>\n",
       "      <td>2.900000</td>\n",
       "      <td>1.129600</td>\n",
       "      <td>1.000000</td>\n",
       "      <td>187.000000</td>\n",
       "      <td>12.600000</td>\n",
       "      <td>0.320000</td>\n",
       "      <td>1.730000</td>\n",
       "    </tr>\n",
       "    <tr>\n",
       "      <th>25%</th>\n",
       "      <td>0.082045</td>\n",
       "      <td>0.000000</td>\n",
       "      <td>5.190000</td>\n",
       "      <td>0.000000</td>\n",
       "      <td>0.449000</td>\n",
       "      <td>5.885500</td>\n",
       "      <td>45.025000</td>\n",
       "      <td>2.100175</td>\n",
       "      <td>4.000000</td>\n",
       "      <td>279.000000</td>\n",
       "      <td>17.400000</td>\n",
       "      <td>375.377500</td>\n",
       "      <td>6.950000</td>\n",
       "    </tr>\n",
       "    <tr>\n",
       "      <th>50%</th>\n",
       "      <td>0.256510</td>\n",
       "      <td>0.000000</td>\n",
       "      <td>9.690000</td>\n",
       "      <td>0.000000</td>\n",
       "      <td>0.538000</td>\n",
       "      <td>6.208500</td>\n",
       "      <td>77.500000</td>\n",
       "      <td>3.207450</td>\n",
       "      <td>5.000000</td>\n",
       "      <td>330.000000</td>\n",
       "      <td>19.050000</td>\n",
       "      <td>391.440000</td>\n",
       "      <td>11.360000</td>\n",
       "    </tr>\n",
       "    <tr>\n",
       "      <th>75%</th>\n",
       "      <td>3.647423</td>\n",
       "      <td>12.500000</td>\n",
       "      <td>18.100000</td>\n",
       "      <td>0.000000</td>\n",
       "      <td>0.624000</td>\n",
       "      <td>6.623500</td>\n",
       "      <td>94.075000</td>\n",
       "      <td>5.188425</td>\n",
       "      <td>24.000000</td>\n",
       "      <td>666.000000</td>\n",
       "      <td>20.200000</td>\n",
       "      <td>396.225000</td>\n",
       "      <td>16.955000</td>\n",
       "    </tr>\n",
       "    <tr>\n",
       "      <th>max</th>\n",
       "      <td>88.976200</td>\n",
       "      <td>100.000000</td>\n",
       "      <td>27.740000</td>\n",
       "      <td>1.000000</td>\n",
       "      <td>0.871000</td>\n",
       "      <td>8.780000</td>\n",
       "      <td>100.000000</td>\n",
       "      <td>12.126500</td>\n",
       "      <td>24.000000</td>\n",
       "      <td>711.000000</td>\n",
       "      <td>22.000000</td>\n",
       "      <td>396.900000</td>\n",
       "      <td>37.970000</td>\n",
       "    </tr>\n",
       "  </tbody>\n",
       "</table>\n",
       "</div>"
      ],
      "text/plain": [
       "               0           1           2           3           4           5   \\\n",
       "count  506.000000  506.000000  506.000000  506.000000  506.000000  506.000000   \n",
       "mean     3.593761   11.363636   11.136779    0.069170    0.554695    6.284634   \n",
       "std      8.596783   23.322453    6.860353    0.253994    0.115878    0.702617   \n",
       "min      0.006320    0.000000    0.460000    0.000000    0.385000    3.561000   \n",
       "25%      0.082045    0.000000    5.190000    0.000000    0.449000    5.885500   \n",
       "50%      0.256510    0.000000    9.690000    0.000000    0.538000    6.208500   \n",
       "75%      3.647423   12.500000   18.100000    0.000000    0.624000    6.623500   \n",
       "max     88.976200  100.000000   27.740000    1.000000    0.871000    8.780000   \n",
       "\n",
       "               6           7           8           9           10          11  \\\n",
       "count  506.000000  506.000000  506.000000  506.000000  506.000000  506.000000   \n",
       "mean    68.574901    3.795043    9.549407  408.237154   18.455534  356.674032   \n",
       "std     28.148861    2.105710    8.707259  168.537116    2.164946   91.294864   \n",
       "min      2.900000    1.129600    1.000000  187.000000   12.600000    0.320000   \n",
       "25%     45.025000    2.100175    4.000000  279.000000   17.400000  375.377500   \n",
       "50%     77.500000    3.207450    5.000000  330.000000   19.050000  391.440000   \n",
       "75%     94.075000    5.188425   24.000000  666.000000   20.200000  396.225000   \n",
       "max    100.000000   12.126500   24.000000  711.000000   22.000000  396.900000   \n",
       "\n",
       "               12  \n",
       "count  506.000000  \n",
       "mean    12.653063  \n",
       "std      7.141062  \n",
       "min      1.730000  \n",
       "25%      6.950000  \n",
       "50%     11.360000  \n",
       "75%     16.955000  \n",
       "max     37.970000  "
      ]
     },
     "execution_count": 3,
     "metadata": {},
     "output_type": "execute_result"
    }
   ],
   "source": [
    "bos.describe()"
   ]
  },
  {
   "cell_type": "code",
   "execution_count": 4,
   "metadata": {
    "ExecuteTime": {
     "end_time": "2018-09-22T13:22:31.156279Z",
     "start_time": "2018-09-22T13:22:31.149283Z"
    },
    "scrolled": true
   },
   "outputs": [
    {
     "data": {
      "text/plain": [
       "0     0\n",
       "1     0\n",
       "2     0\n",
       "3     0\n",
       "4     0\n",
       "5     0\n",
       "6     0\n",
       "7     0\n",
       "8     0\n",
       "9     0\n",
       "10    0\n",
       "11    0\n",
       "12    0\n",
       "dtype: int64"
      ]
     },
     "execution_count": 4,
     "metadata": {},
     "output_type": "execute_result"
    }
   ],
   "source": [
    "bos.isnull().sum()"
   ]
  },
  {
   "cell_type": "code",
   "execution_count": 5,
   "metadata": {
    "ExecuteTime": {
     "end_time": "2018-09-22T13:22:32.755511Z",
     "start_time": "2018-09-22T13:22:32.750531Z"
    }
   },
   "outputs": [
    {
     "data": {
      "text/plain": [
       "(506, 13)"
      ]
     },
     "execution_count": 5,
     "metadata": {},
     "output_type": "execute_result"
    }
   ],
   "source": [
    "bos.shape"
   ]
  },
  {
   "cell_type": "code",
   "execution_count": 6,
   "metadata": {
    "ExecuteTime": {
     "end_time": "2018-09-22T13:22:33.728814Z",
     "start_time": "2018-09-22T13:22:33.724816Z"
    }
   },
   "outputs": [
    {
     "data": {
      "text/plain": [
       "RangeIndex(start=0, stop=13, step=1)"
      ]
     },
     "execution_count": 6,
     "metadata": {},
     "output_type": "execute_result"
    }
   ],
   "source": [
    "bos.columns"
   ]
  },
  {
   "cell_type": "code",
   "execution_count": 7,
   "metadata": {
    "ExecuteTime": {
     "end_time": "2018-09-22T13:22:35.506038Z",
     "start_time": "2018-09-22T13:22:35.495044Z"
    },
    "scrolled": true
   },
   "outputs": [
    {
     "data": {
      "text/plain": [
       "['T',\n",
       " '_AXIS_ALIASES',\n",
       " '_AXIS_IALIASES',\n",
       " '_AXIS_LEN',\n",
       " '_AXIS_NAMES',\n",
       " '_AXIS_NUMBERS',\n",
       " '_AXIS_ORDERS',\n",
       " '_AXIS_REVERSED',\n",
       " '_AXIS_SLICEMAP',\n",
       " '__abs__',\n",
       " '__add__',\n",
       " '__and__',\n",
       " '__array__',\n",
       " '__array_wrap__',\n",
       " '__bool__',\n",
       " '__bytes__',\n",
       " '__class__',\n",
       " '__contains__',\n",
       " '__copy__',\n",
       " '__deepcopy__',\n",
       " '__delattr__',\n",
       " '__delitem__',\n",
       " '__dict__',\n",
       " '__dir__',\n",
       " '__div__',\n",
       " '__doc__',\n",
       " '__eq__',\n",
       " '__finalize__',\n",
       " '__floordiv__',\n",
       " '__format__',\n",
       " '__ge__',\n",
       " '__getattr__',\n",
       " '__getattribute__',\n",
       " '__getitem__',\n",
       " '__getstate__',\n",
       " '__gt__',\n",
       " '__hash__',\n",
       " '__iadd__',\n",
       " '__iand__',\n",
       " '__ifloordiv__',\n",
       " '__imod__',\n",
       " '__imul__',\n",
       " '__init__',\n",
       " '__init_subclass__',\n",
       " '__invert__',\n",
       " '__ior__',\n",
       " '__ipow__',\n",
       " '__isub__',\n",
       " '__iter__',\n",
       " '__itruediv__',\n",
       " '__ixor__',\n",
       " '__le__',\n",
       " '__len__',\n",
       " '__lt__',\n",
       " '__mod__',\n",
       " '__module__',\n",
       " '__mul__',\n",
       " '__ne__',\n",
       " '__neg__',\n",
       " '__new__',\n",
       " '__nonzero__',\n",
       " '__or__',\n",
       " '__pow__',\n",
       " '__radd__',\n",
       " '__rand__',\n",
       " '__rdiv__',\n",
       " '__reduce__',\n",
       " '__reduce_ex__',\n",
       " '__repr__',\n",
       " '__rfloordiv__',\n",
       " '__rmod__',\n",
       " '__rmul__',\n",
       " '__ror__',\n",
       " '__round__',\n",
       " '__rpow__',\n",
       " '__rsub__',\n",
       " '__rtruediv__',\n",
       " '__rxor__',\n",
       " '__setattr__',\n",
       " '__setitem__',\n",
       " '__setstate__',\n",
       " '__sizeof__',\n",
       " '__str__',\n",
       " '__sub__',\n",
       " '__subclasshook__',\n",
       " '__truediv__',\n",
       " '__unicode__',\n",
       " '__weakref__',\n",
       " '__xor__',\n",
       " '_accessors',\n",
       " '_add_numeric_operations',\n",
       " '_add_series_only_operations',\n",
       " '_add_series_or_dataframe_operations',\n",
       " '_agg_by_level',\n",
       " '_agg_doc',\n",
       " '_aggregate',\n",
       " '_aggregate_multiple_funcs',\n",
       " '_align_frame',\n",
       " '_align_series',\n",
       " '_apply_broadcast',\n",
       " '_apply_empty_result',\n",
       " '_apply_raw',\n",
       " '_apply_standard',\n",
       " '_at',\n",
       " '_box_col_values',\n",
       " '_box_item_values',\n",
       " '_builtin_table',\n",
       " '_check_inplace_setting',\n",
       " '_check_is_chained_assignment_possible',\n",
       " '_check_percentile',\n",
       " '_check_setitem_copy',\n",
       " '_clear_item_cache',\n",
       " '_clip_with_one_bound',\n",
       " '_clip_with_scalar',\n",
       " '_combine_const',\n",
       " '_combine_frame',\n",
       " '_combine_match_columns',\n",
       " '_combine_match_index',\n",
       " '_combine_series',\n",
       " '_combine_series_infer',\n",
       " '_compare_frame',\n",
       " '_compare_frame_evaluate',\n",
       " '_consolidate',\n",
       " '_consolidate_inplace',\n",
       " '_construct_axes_dict',\n",
       " '_construct_axes_dict_for_slice',\n",
       " '_construct_axes_dict_from',\n",
       " '_construct_axes_from_arguments',\n",
       " '_constructor',\n",
       " '_constructor_expanddim',\n",
       " '_constructor_sliced',\n",
       " '_convert',\n",
       " '_count_level',\n",
       " '_create_indexer',\n",
       " '_cython_table',\n",
       " '_deprecations',\n",
       " '_dir_additions',\n",
       " '_dir_deletions',\n",
       " '_drop_axis',\n",
       " '_ensure_valid_index',\n",
       " '_expand_axes',\n",
       " '_flex_compare_frame',\n",
       " '_from_arrays',\n",
       " '_from_axes',\n",
       " '_get_agg_axis',\n",
       " '_get_axis',\n",
       " '_get_axis_name',\n",
       " '_get_axis_number',\n",
       " '_get_axis_resolvers',\n",
       " '_get_block_manager_axis',\n",
       " '_get_bool_data',\n",
       " '_get_cacher',\n",
       " '_get_index_resolvers',\n",
       " '_get_item_cache',\n",
       " '_get_numeric_data',\n",
       " '_get_valid_indices',\n",
       " '_get_value',\n",
       " '_get_values',\n",
       " '_getitem_array',\n",
       " '_getitem_column',\n",
       " '_getitem_frame',\n",
       " '_getitem_multilevel',\n",
       " '_getitem_slice',\n",
       " '_gotitem',\n",
       " '_iat',\n",
       " '_iget_item_cache',\n",
       " '_iloc',\n",
       " '_indexed_same',\n",
       " '_info_axis',\n",
       " '_info_axis_name',\n",
       " '_info_axis_number',\n",
       " '_info_repr',\n",
       " '_init_dict',\n",
       " '_init_mgr',\n",
       " '_init_ndarray',\n",
       " '_internal_names',\n",
       " '_internal_names_set',\n",
       " '_is_builtin_func',\n",
       " '_is_cached',\n",
       " '_is_cython_func',\n",
       " '_is_datelike_mixed_type',\n",
       " '_is_mixed_type',\n",
       " '_is_numeric_mixed_type',\n",
       " '_is_view',\n",
       " '_ix',\n",
       " '_ixs',\n",
       " '_join_compat',\n",
       " '_loc',\n",
       " '_maybe_cache_changed',\n",
       " '_maybe_update_cacher',\n",
       " '_metadata',\n",
       " '_needs_reindex_multi',\n",
       " '_obj_with_exclusions',\n",
       " '_protect_consolidate',\n",
       " '_reduce',\n",
       " '_reindex_axes',\n",
       " '_reindex_axis',\n",
       " '_reindex_columns',\n",
       " '_reindex_index',\n",
       " '_reindex_multi',\n",
       " '_reindex_with_indexers',\n",
       " '_repr_data_resource_',\n",
       " '_repr_fits_horizontal_',\n",
       " '_repr_fits_vertical_',\n",
       " '_repr_html_',\n",
       " '_repr_latex_',\n",
       " '_reset_cache',\n",
       " '_reset_cacher',\n",
       " '_sanitize_column',\n",
       " '_selected_obj',\n",
       " '_selection',\n",
       " '_selection_list',\n",
       " '_selection_name',\n",
       " '_series',\n",
       " '_set_as_cached',\n",
       " '_set_axis',\n",
       " '_set_axis_name',\n",
       " '_set_is_copy',\n",
       " '_set_item',\n",
       " '_set_value',\n",
       " '_setitem_array',\n",
       " '_setitem_frame',\n",
       " '_setitem_slice',\n",
       " '_setup_axes',\n",
       " '_shallow_copy',\n",
       " '_slice',\n",
       " '_stat_axis',\n",
       " '_stat_axis_name',\n",
       " '_stat_axis_number',\n",
       " '_take',\n",
       " '_to_dict_of_blocks',\n",
       " '_try_aggregate_string_function',\n",
       " '_typ',\n",
       " '_unpickle_frame_compat',\n",
       " '_unpickle_matrix_compat',\n",
       " '_update_inplace',\n",
       " '_validate_dtype',\n",
       " '_values',\n",
       " '_where',\n",
       " '_xs',\n",
       " 'abs',\n",
       " 'add',\n",
       " 'add_prefix',\n",
       " 'add_suffix',\n",
       " 'agg',\n",
       " 'aggregate',\n",
       " 'align',\n",
       " 'all',\n",
       " 'any',\n",
       " 'append',\n",
       " 'apply',\n",
       " 'applymap',\n",
       " 'as_matrix',\n",
       " 'asfreq',\n",
       " 'asof',\n",
       " 'assign',\n",
       " 'astype',\n",
       " 'at',\n",
       " 'at_time',\n",
       " 'axes',\n",
       " 'between_time',\n",
       " 'bfill',\n",
       " 'bool',\n",
       " 'boxplot',\n",
       " 'clip',\n",
       " 'clip_lower',\n",
       " 'clip_upper',\n",
       " 'columns',\n",
       " 'combine',\n",
       " 'combine_first',\n",
       " 'compound',\n",
       " 'copy',\n",
       " 'corr',\n",
       " 'corrwith',\n",
       " 'count',\n",
       " 'cov',\n",
       " 'cummax',\n",
       " 'cummin',\n",
       " 'cumprod',\n",
       " 'cumsum',\n",
       " 'describe',\n",
       " 'diff',\n",
       " 'div',\n",
       " 'divide',\n",
       " 'dot',\n",
       " 'drop',\n",
       " 'drop_duplicates',\n",
       " 'dropna',\n",
       " 'dtypes',\n",
       " 'duplicated',\n",
       " 'empty',\n",
       " 'eq',\n",
       " 'equals',\n",
       " 'eval',\n",
       " 'ewm',\n",
       " 'expanding',\n",
       " 'ffill',\n",
       " 'fillna',\n",
       " 'filter',\n",
       " 'first',\n",
       " 'first_valid_index',\n",
       " 'floordiv',\n",
       " 'from_dict',\n",
       " 'from_items',\n",
       " 'from_records',\n",
       " 'ftypes',\n",
       " 'ge',\n",
       " 'get',\n",
       " 'get_dtype_counts',\n",
       " 'get_ftype_counts',\n",
       " 'get_values',\n",
       " 'groupby',\n",
       " 'gt',\n",
       " 'head',\n",
       " 'hist',\n",
       " 'iat',\n",
       " 'idxmax',\n",
       " 'idxmin',\n",
       " 'iloc',\n",
       " 'index',\n",
       " 'infer_objects',\n",
       " 'info',\n",
       " 'insert',\n",
       " 'interpolate',\n",
       " 'is_copy',\n",
       " 'isin',\n",
       " 'isna',\n",
       " 'isnull',\n",
       " 'items',\n",
       " 'iteritems',\n",
       " 'iterrows',\n",
       " 'itertuples',\n",
       " 'ix',\n",
       " 'join',\n",
       " 'keys',\n",
       " 'kurt',\n",
       " 'kurtosis',\n",
       " 'last',\n",
       " 'last_valid_index',\n",
       " 'le',\n",
       " 'loc',\n",
       " 'lookup',\n",
       " 'lt',\n",
       " 'mad',\n",
       " 'mask',\n",
       " 'max',\n",
       " 'mean',\n",
       " 'median',\n",
       " 'melt',\n",
       " 'memory_usage',\n",
       " 'merge',\n",
       " 'min',\n",
       " 'mod',\n",
       " 'mode',\n",
       " 'mul',\n",
       " 'multiply',\n",
       " 'ndim',\n",
       " 'ne',\n",
       " 'nlargest',\n",
       " 'notna',\n",
       " 'notnull',\n",
       " 'nsmallest',\n",
       " 'nunique',\n",
       " 'pct_change',\n",
       " 'pipe',\n",
       " 'pivot',\n",
       " 'pivot_table',\n",
       " 'plot',\n",
       " 'pop',\n",
       " 'pow',\n",
       " 'prod',\n",
       " 'product',\n",
       " 'quantile',\n",
       " 'query',\n",
       " 'radd',\n",
       " 'rank',\n",
       " 'rdiv',\n",
       " 'reindex',\n",
       " 'reindex_axis',\n",
       " 'reindex_like',\n",
       " 'rename',\n",
       " 'rename_axis',\n",
       " 'reorder_levels',\n",
       " 'replace',\n",
       " 'resample',\n",
       " 'reset_index',\n",
       " 'rfloordiv',\n",
       " 'rmod',\n",
       " 'rmul',\n",
       " 'rolling',\n",
       " 'round',\n",
       " 'rpow',\n",
       " 'rsub',\n",
       " 'rtruediv',\n",
       " 'sample',\n",
       " 'select',\n",
       " 'select_dtypes',\n",
       " 'sem',\n",
       " 'set_axis',\n",
       " 'set_index',\n",
       " 'shape',\n",
       " 'shift',\n",
       " 'size',\n",
       " 'skew',\n",
       " 'slice_shift',\n",
       " 'sort_index',\n",
       " 'sort_values',\n",
       " 'squeeze',\n",
       " 'stack',\n",
       " 'std',\n",
       " 'style',\n",
       " 'sub',\n",
       " 'subtract',\n",
       " 'sum',\n",
       " 'swapaxes',\n",
       " 'swaplevel',\n",
       " 'tail',\n",
       " 'take',\n",
       " 'to_clipboard',\n",
       " 'to_csv',\n",
       " 'to_dense',\n",
       " 'to_dict',\n",
       " 'to_excel',\n",
       " 'to_feather',\n",
       " 'to_gbq',\n",
       " 'to_hdf',\n",
       " 'to_html',\n",
       " 'to_json',\n",
       " 'to_latex',\n",
       " 'to_msgpack',\n",
       " 'to_panel',\n",
       " 'to_parquet',\n",
       " 'to_period',\n",
       " 'to_pickle',\n",
       " 'to_records',\n",
       " 'to_sparse',\n",
       " 'to_sql',\n",
       " 'to_stata',\n",
       " 'to_string',\n",
       " 'to_timestamp',\n",
       " 'to_xarray',\n",
       " 'transform',\n",
       " 'transpose',\n",
       " 'truediv',\n",
       " 'truncate',\n",
       " 'tshift',\n",
       " 'tz_convert',\n",
       " 'tz_localize',\n",
       " 'unstack',\n",
       " 'update',\n",
       " 'values',\n",
       " 'var',\n",
       " 'where',\n",
       " 'xs']"
      ]
     },
     "execution_count": 7,
     "metadata": {},
     "output_type": "execute_result"
    }
   ],
   "source": [
    "dir(bos)"
   ]
  },
  {
   "cell_type": "code",
   "execution_count": 8,
   "metadata": {
    "ExecuteTime": {
     "end_time": "2018-09-22T13:22:38.339081Z",
     "start_time": "2018-09-22T13:22:38.334065Z"
    }
   },
   "outputs": [
    {
     "data": {
      "text/plain": [
       "dict_keys(['data', 'target', 'feature_names', 'DESCR'])"
      ]
     },
     "execution_count": 8,
     "metadata": {},
     "output_type": "execute_result"
    }
   ],
   "source": [
    "boston.keys()"
   ]
  },
  {
   "cell_type": "code",
   "execution_count": 9,
   "metadata": {
    "ExecuteTime": {
     "end_time": "2018-09-22T13:22:47.259380Z",
     "start_time": "2018-09-22T13:22:47.247386Z"
    },
    "scrolled": true
   },
   "outputs": [
    {
     "data": {
      "text/plain": [
       "array([24. , 21.6, 34.7, 33.4, 36.2, 28.7, 22.9, 27.1, 16.5, 18.9, 15. ,\n",
       "       18.9, 21.7, 20.4, 18.2, 19.9, 23.1, 17.5, 20.2, 18.2, 13.6, 19.6,\n",
       "       15.2, 14.5, 15.6, 13.9, 16.6, 14.8, 18.4, 21. , 12.7, 14.5, 13.2,\n",
       "       13.1, 13.5, 18.9, 20. , 21. , 24.7, 30.8, 34.9, 26.6, 25.3, 24.7,\n",
       "       21.2, 19.3, 20. , 16.6, 14.4, 19.4, 19.7, 20.5, 25. , 23.4, 18.9,\n",
       "       35.4, 24.7, 31.6, 23.3, 19.6, 18.7, 16. , 22.2, 25. , 33. , 23.5,\n",
       "       19.4, 22. , 17.4, 20.9, 24.2, 21.7, 22.8, 23.4, 24.1, 21.4, 20. ,\n",
       "       20.8, 21.2, 20.3, 28. , 23.9, 24.8, 22.9, 23.9, 26.6, 22.5, 22.2,\n",
       "       23.6, 28.7, 22.6, 22. , 22.9, 25. , 20.6, 28.4, 21.4, 38.7, 43.8,\n",
       "       33.2, 27.5, 26.5, 18.6, 19.3, 20.1, 19.5, 19.5, 20.4, 19.8, 19.4,\n",
       "       21.7, 22.8, 18.8, 18.7, 18.5, 18.3, 21.2, 19.2, 20.4, 19.3, 22. ,\n",
       "       20.3, 20.5, 17.3, 18.8, 21.4, 15.7, 16.2, 18. , 14.3, 19.2, 19.6,\n",
       "       23. , 18.4, 15.6, 18.1, 17.4, 17.1, 13.3, 17.8, 14. , 14.4, 13.4,\n",
       "       15.6, 11.8, 13.8, 15.6, 14.6, 17.8, 15.4, 21.5, 19.6, 15.3, 19.4,\n",
       "       17. , 15.6, 13.1, 41.3, 24.3, 23.3, 27. , 50. , 50. , 50. , 22.7,\n",
       "       25. , 50. , 23.8, 23.8, 22.3, 17.4, 19.1, 23.1, 23.6, 22.6, 29.4,\n",
       "       23.2, 24.6, 29.9, 37.2, 39.8, 36.2, 37.9, 32.5, 26.4, 29.6, 50. ,\n",
       "       32. , 29.8, 34.9, 37. , 30.5, 36.4, 31.1, 29.1, 50. , 33.3, 30.3,\n",
       "       34.6, 34.9, 32.9, 24.1, 42.3, 48.5, 50. , 22.6, 24.4, 22.5, 24.4,\n",
       "       20. , 21.7, 19.3, 22.4, 28.1, 23.7, 25. , 23.3, 28.7, 21.5, 23. ,\n",
       "       26.7, 21.7, 27.5, 30.1, 44.8, 50. , 37.6, 31.6, 46.7, 31.5, 24.3,\n",
       "       31.7, 41.7, 48.3, 29. , 24. , 25.1, 31.5, 23.7, 23.3, 22. , 20.1,\n",
       "       22.2, 23.7, 17.6, 18.5, 24.3, 20.5, 24.5, 26.2, 24.4, 24.8, 29.6,\n",
       "       42.8, 21.9, 20.9, 44. , 50. , 36. , 30.1, 33.8, 43.1, 48.8, 31. ,\n",
       "       36.5, 22.8, 30.7, 50. , 43.5, 20.7, 21.1, 25.2, 24.4, 35.2, 32.4,\n",
       "       32. , 33.2, 33.1, 29.1, 35.1, 45.4, 35.4, 46. , 50. , 32.2, 22. ,\n",
       "       20.1, 23.2, 22.3, 24.8, 28.5, 37.3, 27.9, 23.9, 21.7, 28.6, 27.1,\n",
       "       20.3, 22.5, 29. , 24.8, 22. , 26.4, 33.1, 36.1, 28.4, 33.4, 28.2,\n",
       "       22.8, 20.3, 16.1, 22.1, 19.4, 21.6, 23.8, 16.2, 17.8, 19.8, 23.1,\n",
       "       21. , 23.8, 23.1, 20.4, 18.5, 25. , 24.6, 23. , 22.2, 19.3, 22.6,\n",
       "       19.8, 17.1, 19.4, 22.2, 20.7, 21.1, 19.5, 18.5, 20.6, 19. , 18.7,\n",
       "       32.7, 16.5, 23.9, 31.2, 17.5, 17.2, 23.1, 24.5, 26.6, 22.9, 24.1,\n",
       "       18.6, 30.1, 18.2, 20.6, 17.8, 21.7, 22.7, 22.6, 25. , 19.9, 20.8,\n",
       "       16.8, 21.9, 27.5, 21.9, 23.1, 50. , 50. , 50. , 50. , 50. , 13.8,\n",
       "       13.8, 15. , 13.9, 13.3, 13.1, 10.2, 10.4, 10.9, 11.3, 12.3,  8.8,\n",
       "        7.2, 10.5,  7.4, 10.2, 11.5, 15.1, 23.2,  9.7, 13.8, 12.7, 13.1,\n",
       "       12.5,  8.5,  5. ,  6.3,  5.6,  7.2, 12.1,  8.3,  8.5,  5. , 11.9,\n",
       "       27.9, 17.2, 27.5, 15. , 17.2, 17.9, 16.3,  7. ,  7.2,  7.5, 10.4,\n",
       "        8.8,  8.4, 16.7, 14.2, 20.8, 13.4, 11.7,  8.3, 10.2, 10.9, 11. ,\n",
       "        9.5, 14.5, 14.1, 16.1, 14.3, 11.7, 13.4,  9.6,  8.7,  8.4, 12.8,\n",
       "       10.5, 17.1, 18.4, 15.4, 10.8, 11.8, 14.9, 12.6, 14.1, 13. , 13.4,\n",
       "       15.2, 16.1, 17.8, 14.9, 14.1, 12.7, 13.5, 14.9, 20. , 16.4, 17.7,\n",
       "       19.5, 20.2, 21.4, 19.9, 19. , 19.1, 19.1, 20.1, 19.9, 19.6, 23.2,\n",
       "       29.8, 13.8, 13.3, 16.7, 12. , 14.6, 21.4, 23. , 23.7, 25. , 21.8,\n",
       "       20.6, 21.2, 19.1, 20.6, 15.2,  7. ,  8.1, 13.6, 20.1, 21.8, 24.5,\n",
       "       23.1, 19.7, 18.3, 21.2, 17.5, 16.8, 22.4, 20.6, 23.9, 22. , 11.9])"
      ]
     },
     "execution_count": 9,
     "metadata": {},
     "output_type": "execute_result"
    }
   ],
   "source": [
    "boston.target"
   ]
  },
  {
   "cell_type": "code",
   "execution_count": 10,
   "metadata": {
    "ExecuteTime": {
     "end_time": "2018-09-22T13:22:50.963035Z",
     "start_time": "2018-09-22T13:22:50.958020Z"
    }
   },
   "outputs": [
    {
     "data": {
      "text/plain": [
       "array(['CRIM', 'ZN', 'INDUS', 'CHAS', 'NOX', 'RM', 'AGE', 'DIS', 'RAD',\n",
       "       'TAX', 'PTRATIO', 'B', 'LSTAT'], dtype='<U7')"
      ]
     },
     "execution_count": 10,
     "metadata": {},
     "output_type": "execute_result"
    }
   ],
   "source": [
    "boston.feature_names"
   ]
  },
  {
   "cell_type": "code",
   "execution_count": 11,
   "metadata": {
    "ExecuteTime": {
     "end_time": "2018-09-22T13:22:52.314436Z",
     "start_time": "2018-09-22T13:22:52.309458Z"
    }
   },
   "outputs": [
    {
     "data": {
      "text/plain": [
       "\"Boston House Prices dataset\\n===========================\\n\\nNotes\\n------\\nData Set Characteristics:  \\n\\n    :Number of Instances: 506 \\n\\n    :Number of Attributes: 13 numeric/categorical predictive\\n    \\n    :Median Value (attribute 14) is usually the target\\n\\n    :Attribute Information (in order):\\n        - CRIM     per capita crime rate by town\\n        - ZN       proportion of residential land zoned for lots over 25,000 sq.ft.\\n        - INDUS    proportion of non-retail business acres per town\\n        - CHAS     Charles River dummy variable (= 1 if tract bounds river; 0 otherwise)\\n        - NOX      nitric oxides concentration (parts per 10 million)\\n        - RM       average number of rooms per dwelling\\n        - AGE      proportion of owner-occupied units built prior to 1940\\n        - DIS      weighted distances to five Boston employment centres\\n        - RAD      index of accessibility to radial highways\\n        - TAX      full-value property-tax rate per $10,000\\n        - PTRATIO  pupil-teacher ratio by town\\n        - B        1000(Bk - 0.63)^2 where Bk is the proportion of blacks by town\\n        - LSTAT    % lower status of the population\\n        - MEDV     Median value of owner-occupied homes in $1000's\\n\\n    :Missing Attribute Values: None\\n\\n    :Creator: Harrison, D. and Rubinfeld, D.L.\\n\\nThis is a copy of UCI ML housing dataset.\\nhttp://archive.ics.uci.edu/ml/datasets/Housing\\n\\n\\nThis dataset was taken from the StatLib library which is maintained at Carnegie Mellon University.\\n\\nThe Boston house-price data of Harrison, D. and Rubinfeld, D.L. 'Hedonic\\nprices and the demand for clean air', J. Environ. Economics & Management,\\nvol.5, 81-102, 1978.   Used in Belsley, Kuh & Welsch, 'Regression diagnostics\\n...', Wiley, 1980.   N.B. Various transformations are used in the table on\\npages 244-261 of the latter.\\n\\nThe Boston house-price data has been used in many machine learning papers that address regression\\nproblems.   \\n     \\n**References**\\n\\n   - Belsley, Kuh & Welsch, 'Regression diagnostics: Identifying Influential Data and Sources of Collinearity', Wiley, 1980. 244-261.\\n   - Quinlan,R. (1993). Combining Instance-Based and Model-Based Learning. In Proceedings on the Tenth International Conference of Machine Learning, 236-243, University of Massachusetts, Amherst. Morgan Kaufmann.\\n   - many more! (see http://archive.ics.uci.edu/ml/datasets/Housing)\\n\""
      ]
     },
     "execution_count": 11,
     "metadata": {},
     "output_type": "execute_result"
    }
   ],
   "source": [
    "boston.DESCR"
   ]
  },
  {
   "cell_type": "markdown",
   "metadata": {},
   "source": [
    "### Create Dataframe"
   ]
  },
  {
   "cell_type": "code",
   "execution_count": 12,
   "metadata": {
    "ExecuteTime": {
     "end_time": "2018-09-22T13:24:03.196216Z",
     "start_time": "2018-09-22T13:24:03.174244Z"
    }
   },
   "outputs": [
    {
     "data": {
      "text/html": [
       "<div>\n",
       "<style scoped>\n",
       "    .dataframe tbody tr th:only-of-type {\n",
       "        vertical-align: middle;\n",
       "    }\n",
       "\n",
       "    .dataframe tbody tr th {\n",
       "        vertical-align: top;\n",
       "    }\n",
       "\n",
       "    .dataframe thead th {\n",
       "        text-align: right;\n",
       "    }\n",
       "</style>\n",
       "<table border=\"1\" class=\"dataframe\">\n",
       "  <thead>\n",
       "    <tr style=\"text-align: right;\">\n",
       "      <th></th>\n",
       "      <th>CRIM</th>\n",
       "      <th>ZN</th>\n",
       "      <th>INDUS</th>\n",
       "      <th>CHAS</th>\n",
       "      <th>NOX</th>\n",
       "      <th>RM</th>\n",
       "      <th>AGE</th>\n",
       "      <th>DIS</th>\n",
       "      <th>RAD</th>\n",
       "      <th>TAX</th>\n",
       "      <th>PTRATIO</th>\n",
       "      <th>B</th>\n",
       "      <th>LSTAT</th>\n",
       "    </tr>\n",
       "  </thead>\n",
       "  <tbody>\n",
       "    <tr>\n",
       "      <th>0</th>\n",
       "      <td>0.00632</td>\n",
       "      <td>18.0</td>\n",
       "      <td>2.31</td>\n",
       "      <td>0.0</td>\n",
       "      <td>0.538</td>\n",
       "      <td>6.575</td>\n",
       "      <td>65.2</td>\n",
       "      <td>4.0900</td>\n",
       "      <td>1.0</td>\n",
       "      <td>296.0</td>\n",
       "      <td>15.3</td>\n",
       "      <td>396.90</td>\n",
       "      <td>4.98</td>\n",
       "    </tr>\n",
       "    <tr>\n",
       "      <th>1</th>\n",
       "      <td>0.02731</td>\n",
       "      <td>0.0</td>\n",
       "      <td>7.07</td>\n",
       "      <td>0.0</td>\n",
       "      <td>0.469</td>\n",
       "      <td>6.421</td>\n",
       "      <td>78.9</td>\n",
       "      <td>4.9671</td>\n",
       "      <td>2.0</td>\n",
       "      <td>242.0</td>\n",
       "      <td>17.8</td>\n",
       "      <td>396.90</td>\n",
       "      <td>9.14</td>\n",
       "    </tr>\n",
       "    <tr>\n",
       "      <th>2</th>\n",
       "      <td>0.02729</td>\n",
       "      <td>0.0</td>\n",
       "      <td>7.07</td>\n",
       "      <td>0.0</td>\n",
       "      <td>0.469</td>\n",
       "      <td>7.185</td>\n",
       "      <td>61.1</td>\n",
       "      <td>4.9671</td>\n",
       "      <td>2.0</td>\n",
       "      <td>242.0</td>\n",
       "      <td>17.8</td>\n",
       "      <td>392.83</td>\n",
       "      <td>4.03</td>\n",
       "    </tr>\n",
       "    <tr>\n",
       "      <th>3</th>\n",
       "      <td>0.03237</td>\n",
       "      <td>0.0</td>\n",
       "      <td>2.18</td>\n",
       "      <td>0.0</td>\n",
       "      <td>0.458</td>\n",
       "      <td>6.998</td>\n",
       "      <td>45.8</td>\n",
       "      <td>6.0622</td>\n",
       "      <td>3.0</td>\n",
       "      <td>222.0</td>\n",
       "      <td>18.7</td>\n",
       "      <td>394.63</td>\n",
       "      <td>2.94</td>\n",
       "    </tr>\n",
       "    <tr>\n",
       "      <th>4</th>\n",
       "      <td>0.06905</td>\n",
       "      <td>0.0</td>\n",
       "      <td>2.18</td>\n",
       "      <td>0.0</td>\n",
       "      <td>0.458</td>\n",
       "      <td>7.147</td>\n",
       "      <td>54.2</td>\n",
       "      <td>6.0622</td>\n",
       "      <td>3.0</td>\n",
       "      <td>222.0</td>\n",
       "      <td>18.7</td>\n",
       "      <td>396.90</td>\n",
       "      <td>5.33</td>\n",
       "    </tr>\n",
       "  </tbody>\n",
       "</table>\n",
       "</div>"
      ],
      "text/plain": [
       "      CRIM    ZN  INDUS  CHAS    NOX     RM   AGE     DIS  RAD    TAX  \\\n",
       "0  0.00632  18.0   2.31   0.0  0.538  6.575  65.2  4.0900  1.0  296.0   \n",
       "1  0.02731   0.0   7.07   0.0  0.469  6.421  78.9  4.9671  2.0  242.0   \n",
       "2  0.02729   0.0   7.07   0.0  0.469  7.185  61.1  4.9671  2.0  242.0   \n",
       "3  0.03237   0.0   2.18   0.0  0.458  6.998  45.8  6.0622  3.0  222.0   \n",
       "4  0.06905   0.0   2.18   0.0  0.458  7.147  54.2  6.0622  3.0  222.0   \n",
       "\n",
       "   PTRATIO       B  LSTAT  \n",
       "0     15.3  396.90   4.98  \n",
       "1     17.8  396.90   9.14  \n",
       "2     17.8  392.83   4.03  \n",
       "3     18.7  394.63   2.94  \n",
       "4     18.7  396.90   5.33  "
      ]
     },
     "execution_count": 12,
     "metadata": {},
     "output_type": "execute_result"
    }
   ],
   "source": [
    "# Create dataframe\n",
    "df = pd.DataFrame(data=boston.data,columns=boston.feature_names)\n",
    "df.head()"
   ]
  },
  {
   "cell_type": "code",
   "execution_count": 13,
   "metadata": {
    "ExecuteTime": {
     "end_time": "2018-09-22T13:24:04.820444Z",
     "start_time": "2018-09-22T13:24:04.816447Z"
    }
   },
   "outputs": [],
   "source": [
    "# Adding target to dataframe\n",
    "df['TGT'] = boston.target"
   ]
  },
  {
   "cell_type": "code",
   "execution_count": 14,
   "metadata": {
    "ExecuteTime": {
     "end_time": "2018-09-22T13:24:09.366998Z",
     "start_time": "2018-09-22T13:24:09.350007Z"
    }
   },
   "outputs": [
    {
     "data": {
      "text/html": [
       "<div>\n",
       "<style scoped>\n",
       "    .dataframe tbody tr th:only-of-type {\n",
       "        vertical-align: middle;\n",
       "    }\n",
       "\n",
       "    .dataframe tbody tr th {\n",
       "        vertical-align: top;\n",
       "    }\n",
       "\n",
       "    .dataframe thead th {\n",
       "        text-align: right;\n",
       "    }\n",
       "</style>\n",
       "<table border=\"1\" class=\"dataframe\">\n",
       "  <thead>\n",
       "    <tr style=\"text-align: right;\">\n",
       "      <th></th>\n",
       "      <th>CRIM</th>\n",
       "      <th>ZN</th>\n",
       "      <th>INDUS</th>\n",
       "      <th>CHAS</th>\n",
       "      <th>NOX</th>\n",
       "      <th>RM</th>\n",
       "      <th>AGE</th>\n",
       "      <th>DIS</th>\n",
       "      <th>RAD</th>\n",
       "      <th>TAX</th>\n",
       "      <th>PTRATIO</th>\n",
       "      <th>B</th>\n",
       "      <th>LSTAT</th>\n",
       "      <th>TGT</th>\n",
       "    </tr>\n",
       "  </thead>\n",
       "  <tbody>\n",
       "    <tr>\n",
       "      <th>0</th>\n",
       "      <td>0.00632</td>\n",
       "      <td>18.0</td>\n",
       "      <td>2.31</td>\n",
       "      <td>0.0</td>\n",
       "      <td>0.538</td>\n",
       "      <td>6.575</td>\n",
       "      <td>65.2</td>\n",
       "      <td>4.0900</td>\n",
       "      <td>1.0</td>\n",
       "      <td>296.0</td>\n",
       "      <td>15.3</td>\n",
       "      <td>396.9</td>\n",
       "      <td>4.98</td>\n",
       "      <td>24.0</td>\n",
       "    </tr>\n",
       "    <tr>\n",
       "      <th>1</th>\n",
       "      <td>0.02731</td>\n",
       "      <td>0.0</td>\n",
       "      <td>7.07</td>\n",
       "      <td>0.0</td>\n",
       "      <td>0.469</td>\n",
       "      <td>6.421</td>\n",
       "      <td>78.9</td>\n",
       "      <td>4.9671</td>\n",
       "      <td>2.0</td>\n",
       "      <td>242.0</td>\n",
       "      <td>17.8</td>\n",
       "      <td>396.9</td>\n",
       "      <td>9.14</td>\n",
       "      <td>21.6</td>\n",
       "    </tr>\n",
       "  </tbody>\n",
       "</table>\n",
       "</div>"
      ],
      "text/plain": [
       "      CRIM    ZN  INDUS  CHAS    NOX     RM   AGE     DIS  RAD    TAX  \\\n",
       "0  0.00632  18.0   2.31   0.0  0.538  6.575  65.2  4.0900  1.0  296.0   \n",
       "1  0.02731   0.0   7.07   0.0  0.469  6.421  78.9  4.9671  2.0  242.0   \n",
       "\n",
       "   PTRATIO      B  LSTAT   TGT  \n",
       "0     15.3  396.9   4.98  24.0  \n",
       "1     17.8  396.9   9.14  21.6  "
      ]
     },
     "execution_count": 14,
     "metadata": {},
     "output_type": "execute_result"
    }
   ],
   "source": [
    "df.head(2)"
   ]
  },
  {
   "cell_type": "code",
   "execution_count": 16,
   "metadata": {
    "ExecuteTime": {
     "end_time": "2018-09-22T13:55:03.664024Z",
     "start_time": "2018-09-22T13:55:03.656010Z"
    }
   },
   "outputs": [
    {
     "name": "stdout",
     "output_type": "stream",
     "text": [
      "<class 'pandas.core.frame.DataFrame'>\n",
      "RangeIndex: 506 entries, 0 to 505\n",
      "Data columns (total 14 columns):\n",
      "CRIM       506 non-null float64\n",
      "ZN         506 non-null float64\n",
      "INDUS      506 non-null float64\n",
      "CHAS       506 non-null float64\n",
      "NOX        506 non-null float64\n",
      "RM         506 non-null float64\n",
      "AGE        506 non-null float64\n",
      "DIS        506 non-null float64\n",
      "RAD        506 non-null float64\n",
      "TAX        506 non-null float64\n",
      "PTRATIO    506 non-null float64\n",
      "B          506 non-null float64\n",
      "LSTAT      506 non-null float64\n",
      "TGT        506 non-null float64\n",
      "dtypes: float64(14)\n",
      "memory usage: 55.4 KB\n"
     ]
    }
   ],
   "source": [
    "df.info() # no object data in dataframe"
   ]
  },
  {
   "cell_type": "markdown",
   "metadata": {},
   "source": [
    "### Data Visualisation"
   ]
  },
  {
   "cell_type": "code",
   "execution_count": 17,
   "metadata": {
    "ExecuteTime": {
     "end_time": "2018-09-22T13:55:29.074723Z",
     "start_time": "2018-09-22T13:55:26.780486Z"
    },
    "scrolled": false
   },
   "outputs": [
    {
     "data": {
      "text/plain": [
       "<matplotlib.axes._subplots.AxesSubplot at 0x1db623af5f8>"
      ]
     },
     "execution_count": 17,
     "metadata": {},
     "output_type": "execute_result"
    },
    {
     "data": {
      "image/png": "[encoded data removed]",
      "text/plain": [
       "<matplotlib.figure.Figure at 0x1db61e7a208>"
      ]
     },
     "metadata": {},
     "output_type": "display_data"
    }
   ],
   "source": [
    "# visualisation\n",
    "fig, axs = plt.subplots(5,3,sharey=True)\n",
    "df.plot(kind='scatter', x='TGT', y='CRIM', ax=axs[0][0], figsize=(18, 30))\n",
    "df.plot(kind='scatter', x='TGT', y='ZN', ax=axs[0][1])\n",
    "df.plot(kind='scatter', x='TGT', y='INDUS', ax=axs[0][2])\n",
    "df.plot(kind='scatter', x='TGT', y='CHAS', ax=axs[1][0])\n",
    "df.plot(kind='scatter', x='TGT', y='NOX', ax=axs[1][1])\n",
    "df.plot(kind='scatter', x='TGT', y='RM', ax=axs[1][2])\n",
    "df.plot(kind='scatter', x='TGT', y='AGE', ax=axs[2][0])\n",
    "df.plot(kind='scatter', x='TGT', y='DIS', ax=axs[2][1])\n",
    "df.plot(kind='scatter', x='TGT', y='RAD', ax=axs[2][2])\n",
    "df.plot(kind='scatter', x='TGT', y='TAX', ax=axs[3][0])\n",
    "df.plot(kind='scatter', x='TGT', y='PTRATIO', ax=axs[3][1])\n",
    "df.plot(kind='scatter', x='TGT', y='B', ax=axs[3][2])\n",
    "df.plot(kind='scatter', x='TGT', y='LSTAT', ax=axs[4][0])"
   ]
  },
  {
   "cell_type": "code",
   "execution_count": 18,
   "metadata": {
    "ExecuteTime": {
     "end_time": "2018-09-22T14:02:17.296112Z",
     "start_time": "2018-09-22T14:02:16.522343Z"
    }
   },
   "outputs": [
    {
     "name": "stdout",
     "output_type": "stream",
     "text": [
      "LinearRegression(copy_X=True, fit_intercept=True, n_jobs=1, normalize=False)\n",
      "Intercept 36.491103280363404\n",
      "Coefficient [-1.07170557e-01  4.63952195e-02  2.08602395e-02  2.68856140e+00\n",
      " -1.77957587e+01  3.80475246e+00  7.51061703e-04 -1.47575880e+00\n",
      "  3.05655038e-01 -1.23293463e-02 -9.53463555e-01  9.39251272e-03\n",
      " -5.25466633e-01]\n",
      "LinearRegression(copy_X=True, fit_intercept=True, n_jobs=1, normalize=False)\n",
      "0.7406077428649428\n"
     ]
    }
   ],
   "source": [
    "# create X and y. Always remember to do this step to avoid 1-D & 2-D error\n",
    "feature_cols = ['CRIM', 'ZN', 'INDUS', 'CHAS', 'NOX', 'RM', 'AGE', 'DIS', 'RAD', 'TAX',\n",
    "       'PTRATIO', 'B', 'LSTAT']\n",
    "x = df[feature_cols]\n",
    "y = df.TGT\n",
    "\n",
    "\n",
    "# follow the usual sklearn pattern: import, instantiate, fit\n",
    "from sklearn.linear_model import LinearRegression # if we put as lm in this statement then error. requires 1 missing argument.\n",
    "lm = LinearRegression()\n",
    "print(lm)\n",
    "lm.fit(x, y)\n",
    "\n",
    "# print intercept and coefficients\n",
    "print('Intercept', lm.intercept_)\n",
    "print('Coefficient', lm.coef_)\n",
    "print(lm.fit(x,y))\n",
    "print(lm.score(x,y))\n"
   ]
  },
  {
   "cell_type": "code",
   "execution_count": 19,
   "metadata": {
    "ExecuteTime": {
     "end_time": "2018-09-22T14:03:53.478021Z",
     "start_time": "2018-09-22T14:03:53.466029Z"
    },
    "scrolled": true
   },
   "outputs": [
    {
     "name": "stdout",
     "output_type": "stream",
     "text": [
      "[30.00821269 25.0298606  30.5702317  28.60814055 27.94288232 25.25940048\n",
      " 23.00433994 19.5347558  11.51696539 18.91981483 18.9958266  21.58970854\n",
      " 20.90534851 19.55535931 19.2837957  19.30000174 20.52889993 16.9096749\n",
      " 16.17067411 18.40781636 12.52040454 17.67104565 15.82934891 13.80368317\n",
      " 15.67708138 13.3791645  15.46258829 14.69863607 19.54518512 20.87309945\n",
      " 11.44806825 18.05900412  8.78841666 14.27882319 13.69097132 23.81755469\n",
      " 22.34216285 23.11123204 22.91494157 31.35826216 34.21485385 28.0207132\n",
      " 25.20646572 24.61192851 22.94438953 22.10150945 20.42467417 18.03614022\n",
      "  9.10176198 17.20856571 21.28259372 23.97621248 27.65853521 24.0521088\n",
      " 15.35989132 31.14817003 24.85878746 33.11017111 21.77458036 21.08526739\n",
      " 17.87203538 18.50881381 23.9879809  22.54944098 23.37068403 30.36557584\n",
      " 25.53407332 21.11758504 17.42468223 20.7893086  25.20349174 21.74490595\n",
      " 24.56275612 24.04479519 25.5091157  23.97076758 22.94823519 23.36106095\n",
      " 21.26432549 22.4345376  28.40699937 26.99734716 26.03807246 25.06152125\n",
      " 24.7858613  27.79291889 22.16927073 25.89685664 30.67771522 30.83225886\n",
      " 27.12127354 27.41597825 28.9456478  29.08668003 27.04501726 28.62506705\n",
      " 24.73038218 35.78062378 35.11269515 32.25115468 24.57946786 25.59386215\n",
      " 19.76439137 20.31157117 21.4353635  18.53971968 17.18572611 20.74934949\n",
      " 22.64791346 19.77000977 20.64745349 26.52652691 20.77440554 20.71546432\n",
      " 25.17461484 20.4273652  23.37862521 23.69454145 20.33202239 20.79378139\n",
      " 21.92024414 22.47432006 20.55884635 16.36300764 20.56342111 22.48570454\n",
      " 14.61264839 15.1802607  18.93828443 14.0574955  20.03651959 19.41306288\n",
      " 20.06401034 15.76005772 13.24771577 17.26167729 15.87759672 19.36145104\n",
      " 13.81270814 16.44782934 13.56511101  3.98343974 14.59241207 12.14503093\n",
      "  8.72407108 12.00815659 15.80308586  8.50963929  9.70965512 14.79848067\n",
      " 20.83598096 18.30017013 20.12575267 17.27585681 22.35997992 20.07985184\n",
      " 13.59903744 33.26635221 29.03938379 25.56694529 32.71732164 36.78111388\n",
      " 40.56615533 41.85122271 24.79875684 25.3771545  37.20662185 23.08244608\n",
      " 26.40326834 26.65647433 22.55412919 24.2970948  22.98024802 29.07488389\n",
      " 26.52620066 30.72351225 25.61835359 29.14203283 31.43690634 32.9232938\n",
      " 34.72096487 27.76792733 33.88992899 30.99725805 22.72124288 24.76567683\n",
      " 35.88131719 33.42696242 32.41513625 34.51611818 30.76057666 30.29169893\n",
      " 32.92040221 32.11459912 31.56133385 40.84274603 36.13046343 32.66639271\n",
      " 34.70558647 30.09276228 30.64139724 29.29189704 37.07062623 42.02879611\n",
      " 43.18582722 22.6923888  23.68420569 17.85435295 23.49543857 17.00872418\n",
      " 22.39535066 17.06152243 22.74106824 25.21974252 11.10601161 24.51300617\n",
      " 26.60749026 28.35802444 24.91860458 29.69254951 33.18492755 23.77145523\n",
      " 32.14086508 29.74802362 38.36605632 39.80716458 37.58362546 32.39769704\n",
      " 35.45048257 31.23446481 24.48478321 33.28615723 38.04368164 37.15737267\n",
      " 31.71297469 25.26658017 30.101515   32.71897655 28.42735376 28.42999168\n",
      " 27.2913215  23.74446671 24.11878941 27.40241209 16.32993575 13.39695213\n",
      " 20.01655581 19.86205904 21.28604604 24.07796482 24.20603792 25.04201534\n",
      " 24.91709097 29.93762975 23.97709054 21.69931969 37.51051381 43.29459357\n",
      " 36.48121427 34.99129701 34.80865729 37.16296374 40.9823638  34.44211691\n",
      " 35.83178068 28.24913647 31.22022312 40.83256202 39.31768808 25.71099424\n",
      " 22.30344878 27.20551341 28.51386352 35.47494122 36.11110647 33.80004807\n",
      " 35.61141951 34.84311742 30.35359323 35.31260262 38.79684808 34.33296541\n",
      " 40.34038636 44.67339923 31.5955473  27.35994642 20.09520596 27.04518524\n",
      " 27.21674397 26.91105226 33.43602979 34.40228785 31.83374181 25.82416035\n",
      " 24.43687139 28.46348891 27.36916176 19.54441878 29.11480679 31.90852699\n",
      " 30.77325183 28.9430835  28.88108106 32.79876794 33.20356949 30.76568546\n",
      " 35.55843485 32.70725436 28.64759861 23.59388439 18.5461558  26.88429024\n",
      " 23.28485442 25.55002201 25.48337323 20.54343769 17.61406384 18.37627933\n",
      " 24.29187594 21.3257202  24.88826131 24.87143049 22.87255605 19.4540234\n",
      " 25.11948741 24.66816374 23.68209656 19.33951725 21.17636041 24.25306588\n",
      " 21.59311197 19.98766667 23.34079584 22.13973959 21.55349196 20.61808868\n",
      " 20.1607571  19.28455466 22.16593919 21.24893735 21.42985456 30.32874523\n",
      " 22.04915396 27.70610125 28.54595004 16.54657063 14.78278261 25.27336772\n",
      " 27.54088054 22.14633467 20.46081206 20.54472332 16.88194391 25.40066956\n",
      " 14.32299547 16.5927403  19.63224597 22.7117302  22.19946949 19.1989151\n",
      " 22.66091019 18.92059374 18.22715359 20.22444386 37.47946099 14.29172583\n",
      " 15.53697148 10.82825817 23.81134987 32.64787163 34.61163401 24.94604102\n",
      " 26.00259724  6.12085728  0.78021126 25.311373   17.73465914 20.22593282\n",
      " 15.83834861 16.83742401 14.43123608 18.47647773 13.42427933 13.05677824\n",
      "  3.27646485  8.05936467  6.13903114  5.62271213  6.44935154 14.20597451\n",
      " 17.21022671 17.29035065  9.89064351 20.21972222 17.94511052 20.30017588\n",
      " 19.28790318 16.33300008  6.56843662 10.87541577 11.88704097 17.81098929\n",
      " 18.25461066 12.99282707  7.39319053  8.25609561  8.07899971 19.98563715\n",
      " 13.69651744 19.83511412 15.2345378  16.93112419  1.69347406 11.81116263\n",
      " -4.28300934  9.55007844 13.32635521  6.88351077  6.16827417 14.56933235\n",
      " 19.59292932 18.1151686  18.52011987 13.13707457 14.59662601  9.8923749\n",
      " 16.31998048 14.06750301 14.22573568 13.00752251 18.13277547 18.66645496\n",
      " 21.50283795 17.00039379 15.93926602 13.32952716 14.48949211  8.78366731\n",
      "  4.8300317  13.06115528 12.71101472 17.2887624  18.73424906 18.05271013\n",
      " 11.49855612 13.00841512 17.66975577 18.12342294 17.51503231 17.21307203\n",
      " 16.48238543 19.40079737 18.57392951 22.47833186 15.24179836 15.78327609\n",
      " 12.64853778 12.84121049 17.17173661 18.50906858 19.02803874 20.16441773\n",
      " 19.76975335 22.42614937 20.31750314 17.87618837 14.3391341  16.93715603\n",
      " 16.98716629 18.59431701 20.16395155 22.97743546 22.45110639 25.5707207\n",
      " 16.39091112 16.09765427 20.52835689 11.5429045  19.20387482 21.86820603\n",
      " 23.47052203 27.10034494 28.57064813 21.0839881  19.4490529  22.2189221\n",
      " 19.65423066 21.324671   11.86231364  8.22260592  3.65825168 13.76275951\n",
      " 15.93780944 20.62730097 20.61035443 16.88048035 14.01017244 19.10825534\n",
      " 21.29720741 18.45524217 20.46764235 23.53261729 22.37869798 27.62934247\n",
      " 26.12983844 22.34870269]\n"
     ]
    }
   ],
   "source": [
    "print(lm.predict(x))"
   ]
  },
  {
   "cell_type": "code",
   "execution_count": 21,
   "metadata": {
    "ExecuteTime": {
     "end_time": "2018-09-22T14:05:14.465247Z",
     "start_time": "2018-09-22T14:05:14.429287Z"
    }
   },
   "outputs": [
    {
     "name": "stdout",
     "output_type": "stream",
     "text": [
      "Intercept    3.182440e-12\n",
      "CRIM         1.126402e-03\n",
      "ZN           7.836070e-04\n",
      "INDUS        7.345971e-01\n",
      "CHAS         1.912339e-03\n",
      "NOX          4.117296e-06\n",
      "RM           2.207486e-18\n",
      "AGE          9.546859e-01\n",
      "DIS          6.017651e-13\n",
      "RAD          5.189664e-06\n",
      "TAX          1.117826e-03\n",
      "PTRATIO      1.268218e-12\n",
      "B            5.072875e-04\n",
      "LSTAT        6.595808e-23\n",
      "dtype: float64\n",
      "rsquared 0.7406077428649428\n",
      "                   0          1\n",
      "Intercept  26.461795  46.520411\n",
      "CRIM       -0.171443  -0.042898\n",
      "ZN          0.019422   0.073368\n",
      "INDUS      -0.099968   0.141689\n",
      "CHAS        0.995659   4.381463\n",
      "NOX       -25.302434 -10.289083\n",
      "RM          2.983470   4.626035\n",
      "AGE        -0.025205   0.026707\n",
      "DIS        -1.867703  -1.083814\n",
      "RAD         0.175323   0.435987\n",
      "TAX        -0.019719  -0.004940\n",
      "PTRATIO    -1.210539  -0.696388\n",
      "B           0.004120   0.014665\n",
      "LSTAT      -0.625062  -0.425872\n"
     ]
    }
   ],
   "source": [
    "import statsmodels.formula.api as smf\n",
    "lm2 = smf.ols(formula='TGT ~ CRIM+ZN+INDUS+CHAS+NOX+RM+AGE+DIS+RAD+TAX+PTRATIO+B+LSTAT',data=df).fit()\n",
    "print(lm2.pvalues)\n",
    "print('rsquared', lm2.rsquared)\n",
    "print(lm2.conf_int())"
   ]
  },
  {
   "cell_type": "code",
   "execution_count": 22,
   "metadata": {
    "ExecuteTime": {
     "end_time": "2018-09-22T14:31:24.183045Z",
     "start_time": "2018-09-22T14:31:24.028134Z"
    }
   },
   "outputs": [
    {
     "data": {
      "text/html": [
       "<table class=\"simpletable\">\n",
       "<tr>\n",
       "        <td>Model:</td>               <td>OLS</td>         <td>Adj. R-squared:</td>     <td>0.734</td>  \n",
       "</tr>\n",
       "<tr>\n",
       "  <td>Dependent Variable:</td>        <td>TGT</td>              <td>AIC:</td>         <td>3025.6767</td>\n",
       "</tr>\n",
       "<tr>\n",
       "         <td>Date:</td>        <td>2018-09-22 20:01</td>        <td>BIC:</td>         <td>3084.8482</td>\n",
       "</tr>\n",
       "<tr>\n",
       "   <td>No. Observations:</td>         <td>506</td>         <td>Log-Likelihood:</td>    <td>-1498.8</td> \n",
       "</tr>\n",
       "<tr>\n",
       "       <td>Df Model:</td>             <td>13</td>           <td>F-statistic:</td>       <td>108.1</td>  \n",
       "</tr>\n",
       "<tr>\n",
       "     <td>Df Residuals:</td>           <td>492</td>       <td>Prob (F-statistic):</td> <td>6.95e-135</td>\n",
       "</tr>\n",
       "<tr>\n",
       "      <td>R-squared:</td>            <td>0.741</td>            <td>Scale:</td>         <td>22.521</td>  \n",
       "</tr>\n",
       "</table>\n",
       "<table class=\"simpletable\">\n",
       "<tr>\n",
       "      <td></td>        <th>Coef.</th>  <th>Std.Err.</th>     <th>t</th>     <th>P>|t|</th>  <th>[0.025</th>   <th>0.975]</th> \n",
       "</tr>\n",
       "<tr>\n",
       "  <th>Intercept</th>  <td>36.4911</td>  <td>5.1045</td>   <td>7.1488</td>  <td>0.0000</td>  <td>26.4618</td>  <td>46.5204</td>\n",
       "</tr>\n",
       "<tr>\n",
       "  <th>CRIM</th>       <td>-0.1072</td>  <td>0.0327</td>   <td>-3.2762</td> <td>0.0011</td>  <td>-0.1714</td>  <td>-0.0429</td>\n",
       "</tr>\n",
       "<tr>\n",
       "  <th>ZN</th>         <td>0.0464</td>   <td>0.0137</td>   <td>3.3796</td>  <td>0.0008</td>  <td>0.0194</td>   <td>0.0734</td> \n",
       "</tr>\n",
       "<tr>\n",
       "  <th>INDUS</th>      <td>0.0209</td>   <td>0.0615</td>   <td>0.3392</td>  <td>0.7346</td>  <td>-0.1000</td>  <td>0.1417</td> \n",
       "</tr>\n",
       "<tr>\n",
       "  <th>CHAS</th>       <td>2.6886</td>   <td>0.8616</td>   <td>3.1204</td>  <td>0.0019</td>  <td>0.9957</td>   <td>4.3815</td> \n",
       "</tr>\n",
       "<tr>\n",
       "  <th>NOX</th>       <td>-17.7958</td>  <td>3.8206</td>   <td>-4.6579</td> <td>0.0000</td> <td>-25.3024</td> <td>-10.2891</td>\n",
       "</tr>\n",
       "<tr>\n",
       "  <th>RM</th>         <td>3.8048</td>   <td>0.4180</td>   <td>9.1023</td>  <td>0.0000</td>  <td>2.9835</td>   <td>4.6260</td> \n",
       "</tr>\n",
       "<tr>\n",
       "  <th>AGE</th>        <td>0.0008</td>   <td>0.0132</td>   <td>0.0569</td>  <td>0.9547</td>  <td>-0.0252</td>  <td>0.0267</td> \n",
       "</tr>\n",
       "<tr>\n",
       "  <th>DIS</th>        <td>-1.4758</td>  <td>0.1995</td>   <td>-7.3979</td> <td>0.0000</td>  <td>-1.8677</td>  <td>-1.0838</td>\n",
       "</tr>\n",
       "<tr>\n",
       "  <th>RAD</th>        <td>0.3057</td>   <td>0.0663</td>   <td>4.6079</td>  <td>0.0000</td>  <td>0.1753</td>   <td>0.4360</td> \n",
       "</tr>\n",
       "<tr>\n",
       "  <th>TAX</th>        <td>-0.0123</td>  <td>0.0038</td>   <td>-3.2784</td> <td>0.0011</td>  <td>-0.0197</td>  <td>-0.0049</td>\n",
       "</tr>\n",
       "<tr>\n",
       "  <th>PTRATIO</th>    <td>-0.9535</td>  <td>0.1308</td>   <td>-7.2872</td> <td>0.0000</td>  <td>-1.2105</td>  <td>-0.6964</td>\n",
       "</tr>\n",
       "<tr>\n",
       "  <th>B</th>          <td>0.0094</td>   <td>0.0027</td>   <td>3.5001</td>  <td>0.0005</td>  <td>0.0041</td>   <td>0.0147</td> \n",
       "</tr>\n",
       "<tr>\n",
       "  <th>LSTAT</th>      <td>-0.5255</td>  <td>0.0507</td>  <td>-10.3663</td> <td>0.0000</td>  <td>-0.6251</td>  <td>-0.4259</td>\n",
       "</tr>\n",
       "</table>\n",
       "<table class=\"simpletable\">\n",
       "<tr>\n",
       "     <td>Omnibus:</td>    <td>178.029</td>  <td>Durbin-Watson:</td>    <td>1.078</td> \n",
       "</tr>\n",
       "<tr>\n",
       "  <td>Prob(Omnibus):</td>  <td>0.000</td>  <td>Jarque-Bera (JB):</td> <td>782.015</td>\n",
       "</tr>\n",
       "<tr>\n",
       "       <td>Skew:</td>      <td>1.521</td>      <td>Prob(JB):</td>      <td>0.000</td> \n",
       "</tr>\n",
       "<tr>\n",
       "     <td>Kurtosis:</td>    <td>8.276</td>   <td>Condition No.:</td>    <td>15116</td> \n",
       "</tr>\n",
       "</table>"
      ],
      "text/plain": [
       "<class 'statsmodels.iolib.summary2.Summary'>\n",
       "\"\"\"\n",
       "                 Results: Ordinary least squares\n",
       "==================================================================\n",
       "Model:              OLS              Adj. R-squared:     0.734    \n",
       "Dependent Variable: TGT              AIC:                3025.6767\n",
       "Date:               2018-09-22 20:01 BIC:                3084.8482\n",
       "No. Observations:   506              Log-Likelihood:     -1498.8  \n",
       "Df Model:           13               F-statistic:        108.1    \n",
       "Df Residuals:       492              Prob (F-statistic): 6.95e-135\n",
       "R-squared:          0.741            Scale:              22.521   \n",
       "-------------------------------------------------------------------\n",
       "            Coef.    Std.Err.     t      P>|t|    [0.025    0.975] \n",
       "-------------------------------------------------------------------\n",
       "Intercept   36.4911    5.1045    7.1488  0.0000   26.4618   46.5204\n",
       "CRIM        -0.1072    0.0327   -3.2762  0.0011   -0.1714   -0.0429\n",
       "ZN           0.0464    0.0137    3.3796  0.0008    0.0194    0.0734\n",
       "INDUS        0.0209    0.0615    0.3392  0.7346   -0.1000    0.1417\n",
       "CHAS         2.6886    0.8616    3.1204  0.0019    0.9957    4.3815\n",
       "NOX        -17.7958    3.8206   -4.6579  0.0000  -25.3024  -10.2891\n",
       "RM           3.8048    0.4180    9.1023  0.0000    2.9835    4.6260\n",
       "AGE          0.0008    0.0132    0.0569  0.9547   -0.0252    0.0267\n",
       "DIS         -1.4758    0.1995   -7.3979  0.0000   -1.8677   -1.0838\n",
       "RAD          0.3057    0.0663    4.6079  0.0000    0.1753    0.4360\n",
       "TAX         -0.0123    0.0038   -3.2784  0.0011   -0.0197   -0.0049\n",
       "PTRATIO     -0.9535    0.1308   -7.2872  0.0000   -1.2105   -0.6964\n",
       "B            0.0094    0.0027    3.5001  0.0005    0.0041    0.0147\n",
       "LSTAT       -0.5255    0.0507  -10.3663  0.0000   -0.6251   -0.4259\n",
       "------------------------------------------------------------------\n",
       "Omnibus:             178.029       Durbin-Watson:          1.078  \n",
       "Prob(Omnibus):       0.000         Jarque-Bera (JB):       782.015\n",
       "Skew:                1.521         Prob(JB):               0.000  \n",
       "Kurtosis:            8.276         Condition No.:          15116  \n",
       "==================================================================\n",
       "* The condition number is large (2e+04). This might indicate\n",
       "strong multicollinearity or other numerical problems.\n",
       "\"\"\""
      ]
     },
     "execution_count": 22,
     "metadata": {},
     "output_type": "execute_result"
    }
   ],
   "source": [
    "lm2.summary2()"
   ]
  },
  {
   "cell_type": "markdown",
   "metadata": {},
   "source": [
    " pvalue of INDUS and AGE signifies that these 2 feature is not of importance."
   ]
  },
  {
   "cell_type": "code",
   "execution_count": 26,
   "metadata": {
    "ExecuteTime": {
     "end_time": "2018-09-22T14:49:01.670073Z",
     "start_time": "2018-09-22T14:49:01.642089Z"
    }
   },
   "outputs": [
    {
     "name": "stdout",
     "output_type": "stream",
     "text": [
      "Intercept    2.653632e-12\n",
      "CRIM         1.049523e-03\n",
      "ZN           7.625203e-04\n",
      "CHAS         1.536781e-03\n",
      "NOX          1.183263e-06\n",
      "RM           3.224973e-19\n",
      "DIS          6.761117e-15\n",
      "RAD          3.088558e-06\n",
      "TAX          5.295954e-04\n",
      "PTRATIO      9.005058e-13\n",
      "B            4.920085e-04\n",
      "LSTAT        1.818166e-25\n",
      "dtype: float64\n",
      "rsquared 0.7405453520461442\n",
      "                   0          1\n",
      "Intercept  26.410881  46.327850\n",
      "CRIM       -0.171666  -0.043451\n",
      "ZN          0.019235   0.072374\n",
      "CHAS        1.042760   4.399654\n",
      "NOX       -24.343103 -10.448180\n",
      "RM          2.998198   4.595101\n",
      "DIS        -1.858368  -1.128352\n",
      "RAD         0.174565   0.423614\n",
      "TAX        -0.018390  -0.005138\n",
      "PTRATIO    -1.200725  -0.693499\n",
      "B           0.004124   0.014621\n",
      "LSTAT      -0.616306  -0.430038\n"
     ]
    }
   ],
   "source": [
    "# without INDUS and AGE\n",
    "lm2_2 = smf.ols(formula='TGT ~ CRIM+ZN+CHAS+NOX+RM+DIS+RAD+TAX+PTRATIO+B+LSTAT',data=df).fit()\n",
    "print(lm2_2.pvalues)\n",
    "print('rsquared', lm2_2.rsquared)\n",
    "print(lm2_2.conf_int())"
   ]
  },
  {
   "cell_type": "code",
   "execution_count": 24,
   "metadata": {
    "ExecuteTime": {
     "end_time": "2018-09-22T14:36:39.271990Z",
     "start_time": "2018-09-22T14:36:39.215021Z"
    }
   },
   "outputs": [
    {
     "data": {
      "text/html": [
       "<table class=\"simpletable\">\n",
       "<tr>\n",
       "        <td>Model:</td>               <td>OLS</td>         <td>Adj. R-squared:</td>     <td>0.735</td>  \n",
       "</tr>\n",
       "<tr>\n",
       "  <td>Dependent Variable:</td>        <td>TGT</td>              <td>AIC:</td>         <td>3021.7984</td>\n",
       "</tr>\n",
       "<tr>\n",
       "         <td>Date:</td>        <td>2018-09-22 20:06</td>        <td>BIC:</td>         <td>3072.5169</td>\n",
       "</tr>\n",
       "<tr>\n",
       "   <td>No. Observations:</td>         <td>506</td>         <td>Log-Likelihood:</td>    <td>-1498.9</td> \n",
       "</tr>\n",
       "<tr>\n",
       "       <td>Df Model:</td>             <td>11</td>           <td>F-statistic:</td>       <td>128.2</td>  \n",
       "</tr>\n",
       "<tr>\n",
       "     <td>Df Residuals:</td>           <td>494</td>       <td>Prob (F-statistic):</td> <td>5.74e-137</td>\n",
       "</tr>\n",
       "<tr>\n",
       "      <td>R-squared:</td>            <td>0.741</td>            <td>Scale:</td>         <td>22.435</td>  \n",
       "</tr>\n",
       "</table>\n",
       "<table class=\"simpletable\">\n",
       "<tr>\n",
       "      <td></td>        <th>Coef.</th>  <th>Std.Err.</th>     <th>t</th>     <th>P>|t|</th>  <th>[0.025</th>   <th>0.975]</th> \n",
       "</tr>\n",
       "<tr>\n",
       "  <th>Intercept</th>  <td>36.3694</td>  <td>5.0685</td>   <td>7.1756</td>  <td>0.0000</td>  <td>26.4109</td>  <td>46.3279</td>\n",
       "</tr>\n",
       "<tr>\n",
       "  <th>CRIM</th>       <td>-0.1076</td>  <td>0.0326</td>   <td>-3.2965</td> <td>0.0010</td>  <td>-0.1717</td>  <td>-0.0435</td>\n",
       "</tr>\n",
       "<tr>\n",
       "  <th>ZN</th>         <td>0.0458</td>   <td>0.0135</td>   <td>3.3872</td>  <td>0.0008</td>  <td>0.0192</td>   <td>0.0724</td> \n",
       "</tr>\n",
       "<tr>\n",
       "  <th>CHAS</th>       <td>2.7212</td>   <td>0.8543</td>   <td>3.1854</td>  <td>0.0015</td>  <td>1.0428</td>   <td>4.3997</td> \n",
       "</tr>\n",
       "<tr>\n",
       "  <th>NOX</th>       <td>-17.3956</td>  <td>3.5360</td>   <td>-4.9196</td> <td>0.0000</td> <td>-24.3431</td> <td>-10.4482</td>\n",
       "</tr>\n",
       "<tr>\n",
       "  <th>RM</th>         <td>3.7966</td>   <td>0.4064</td>   <td>9.3426</td>  <td>0.0000</td>  <td>2.9982</td>   <td>4.5951</td> \n",
       "</tr>\n",
       "<tr>\n",
       "  <th>DIS</th>        <td>-1.4934</td>  <td>0.1858</td>   <td>-8.0385</td> <td>0.0000</td>  <td>-1.8584</td>  <td>-1.1284</td>\n",
       "</tr>\n",
       "<tr>\n",
       "  <th>RAD</th>        <td>0.2991</td>   <td>0.0634</td>   <td>4.7191</td>  <td>0.0000</td>  <td>0.1746</td>   <td>0.4236</td> \n",
       "</tr>\n",
       "<tr>\n",
       "  <th>TAX</th>        <td>-0.0118</td>  <td>0.0034</td>   <td>-3.4883</td> <td>0.0005</td>  <td>-0.0184</td>  <td>-0.0051</td>\n",
       "</tr>\n",
       "<tr>\n",
       "  <th>PTRATIO</th>    <td>-0.9471</td>  <td>0.1291</td>   <td>-7.3374</td> <td>0.0000</td>  <td>-1.2007</td>  <td>-0.6935</td>\n",
       "</tr>\n",
       "<tr>\n",
       "  <th>B</th>          <td>0.0094</td>   <td>0.0027</td>   <td>3.5084</td>  <td>0.0005</td>  <td>0.0041</td>   <td>0.0146</td> \n",
       "</tr>\n",
       "<tr>\n",
       "  <th>LSTAT</th>      <td>-0.5232</td>  <td>0.0474</td>  <td>-11.0370</td> <td>0.0000</td>  <td>-0.6163</td>  <td>-0.4300</td>\n",
       "</tr>\n",
       "</table>\n",
       "<table class=\"simpletable\">\n",
       "<tr>\n",
       "     <td>Omnibus:</td>    <td>178.444</td>  <td>Durbin-Watson:</td>    <td>1.078</td> \n",
       "</tr>\n",
       "<tr>\n",
       "  <td>Prob(Omnibus):</td>  <td>0.000</td>  <td>Jarque-Bera (JB):</td> <td>786.944</td>\n",
       "</tr>\n",
       "<tr>\n",
       "       <td>Skew:</td>      <td>1.524</td>      <td>Prob(JB):</td>      <td>0.000</td> \n",
       "</tr>\n",
       "<tr>\n",
       "     <td>Kurtosis:</td>    <td>8.295</td>   <td>Condition No.:</td>    <td>14688</td> \n",
       "</tr>\n",
       "</table>"
      ],
      "text/plain": [
       "<class 'statsmodels.iolib.summary2.Summary'>\n",
       "\"\"\"\n",
       "                 Results: Ordinary least squares\n",
       "==================================================================\n",
       "Model:              OLS              Adj. R-squared:     0.735    \n",
       "Dependent Variable: TGT              AIC:                3021.7984\n",
       "Date:               2018-09-22 20:06 BIC:                3072.5169\n",
       "No. Observations:   506              Log-Likelihood:     -1498.9  \n",
       "Df Model:           11               F-statistic:        128.2    \n",
       "Df Residuals:       494              Prob (F-statistic): 5.74e-137\n",
       "R-squared:          0.741            Scale:              22.435   \n",
       "-------------------------------------------------------------------\n",
       "            Coef.    Std.Err.     t      P>|t|    [0.025    0.975] \n",
       "-------------------------------------------------------------------\n",
       "Intercept   36.3694    5.0685    7.1756  0.0000   26.4109   46.3279\n",
       "CRIM        -0.1076    0.0326   -3.2965  0.0010   -0.1717   -0.0435\n",
       "ZN           0.0458    0.0135    3.3872  0.0008    0.0192    0.0724\n",
       "CHAS         2.7212    0.8543    3.1854  0.0015    1.0428    4.3997\n",
       "NOX        -17.3956    3.5360   -4.9196  0.0000  -24.3431  -10.4482\n",
       "RM           3.7966    0.4064    9.3426  0.0000    2.9982    4.5951\n",
       "DIS         -1.4934    0.1858   -8.0385  0.0000   -1.8584   -1.1284\n",
       "RAD          0.2991    0.0634    4.7191  0.0000    0.1746    0.4236\n",
       "TAX         -0.0118    0.0034   -3.4883  0.0005   -0.0184   -0.0051\n",
       "PTRATIO     -0.9471    0.1291   -7.3374  0.0000   -1.2007   -0.6935\n",
       "B            0.0094    0.0027    3.5084  0.0005    0.0041    0.0146\n",
       "LSTAT       -0.5232    0.0474  -11.0370  0.0000   -0.6163   -0.4300\n",
       "------------------------------------------------------------------\n",
       "Omnibus:             178.444       Durbin-Watson:          1.078  \n",
       "Prob(Omnibus):       0.000         Jarque-Bera (JB):       786.944\n",
       "Skew:                1.524         Prob(JB):               0.000  \n",
       "Kurtosis:            8.295         Condition No.:          14688  \n",
       "==================================================================\n",
       "* The condition number is large (1e+04). This might indicate\n",
       "strong multicollinearity or other numerical problems.\n",
       "\"\"\""
      ]
     },
     "execution_count": 24,
     "metadata": {},
     "output_type": "execute_result"
    }
   ],
   "source": [
    "lm2_2.summary2()"
   ]
  },
  {
   "cell_type": "markdown",
   "metadata": {},
   "source": [
    "Here without INDUS and AGE, model adj.R square increased as well as AIC/BIC decreased."
   ]
  },
  {
   "cell_type": "code",
   "execution_count": null,
   "metadata": {},
   "outputs": [],
   "source": []
  },
  {
   "cell_type": "markdown",
   "metadata": {
    "ExecuteTime": {
     "end_time": "2018-08-30T17:09:46.323305Z",
     "start_time": "2018-08-30T17:09:46.319306Z"
    }
   },
   "source": [
    "### Train-Test Split"
   ]
  },
  {
   "cell_type": "code",
   "execution_count": 27,
   "metadata": {
    "ExecuteTime": {
     "end_time": "2018-09-22T15:02:54.513480Z",
     "start_time": "2018-09-22T15:02:54.501482Z"
    }
   },
   "outputs": [],
   "source": [
    "feature_cols = ['CRIM', 'ZN', 'INDUS', 'CHAS', 'NOX', 'RM', 'AGE', 'DIS', 'RAD', 'TAX',\n",
    "       'PTRATIO', 'B', 'LSTAT']\n",
    "x = df[feature_cols]\n",
    "y = df.TGT"
   ]
  },
  {
   "cell_type": "code",
   "execution_count": 37,
   "metadata": {
    "ExecuteTime": {
     "end_time": "2018-09-22T15:06:36.400037Z",
     "start_time": "2018-09-22T15:06:36.388029Z"
    }
   },
   "outputs": [],
   "source": [
    "from sklearn.model_selection import train_test_split\n",
    "(x_train,x_test,y_train,y_test) = train_test_split(x,y,test_size=0.3,random_state = 0)"
   ]
  },
  {
   "cell_type": "code",
   "execution_count": 38,
   "metadata": {
    "ExecuteTime": {
     "end_time": "2018-09-22T15:06:37.532792Z",
     "start_time": "2018-09-22T15:06:37.520799Z"
    }
   },
   "outputs": [
    {
     "name": "stdout",
     "output_type": "stream",
     "text": [
      "(354, 13) (354,)\n",
      "(152, 13) (152,)\n"
     ]
    }
   ],
   "source": [
    "print(x_train.shape, y_train.shape)\n",
    "print(x_test.shape, y_test.shape)"
   ]
  },
  {
   "cell_type": "code",
   "execution_count": 39,
   "metadata": {
    "ExecuteTime": {
     "end_time": "2018-09-22T15:06:38.217684Z",
     "start_time": "2018-09-22T15:06:38.201689Z"
    }
   },
   "outputs": [
    {
     "data": {
      "text/plain": [
       "LinearRegression(copy_X=True, fit_intercept=True, n_jobs=1, normalize=False)"
      ]
     },
     "execution_count": 39,
     "metadata": {},
     "output_type": "execute_result"
    }
   ],
   "source": [
    "# fit model\n",
    "lm3 = LinearRegression()\n",
    "lm3.fit(x_train,y_train)"
   ]
  },
  {
   "cell_type": "code",
   "execution_count": 40,
   "metadata": {
    "ExecuteTime": {
     "end_time": "2018-09-22T15:06:39.752141Z",
     "start_time": "2018-09-22T15:06:39.740160Z"
    }
   },
   "outputs": [
    {
     "data": {
      "text/plain": [
       "array([24.93551831, 23.75668597, 29.3364008 , 11.99898444, 21.37583999])"
      ]
     },
     "execution_count": 40,
     "metadata": {},
     "output_type": "execute_result"
    }
   ],
   "source": [
    "# predictions = lm.predict(X_test)\n",
    "predictions = lm3.predict(x_test)\n",
    "predictions[0:5]"
   ]
  },
  {
   "cell_type": "code",
   "execution_count": 41,
   "metadata": {
    "ExecuteTime": {
     "end_time": "2018-09-22T15:06:43.116363Z",
     "start_time": "2018-09-22T15:06:43.108364Z"
    }
   },
   "outputs": [
    {
     "data": {
      "text/plain": [
       "0.6735280865347257"
      ]
     },
     "execution_count": 41,
     "metadata": {},
     "output_type": "execute_result"
    }
   ],
   "source": [
    "lm3.score(x_test,y_test)"
   ]
  },
  {
   "cell_type": "markdown",
   "metadata": {},
   "source": [
    "67.35% Accuracy"
   ]
  },
  {
   "cell_type": "code",
   "execution_count": 45,
   "metadata": {
    "ExecuteTime": {
     "end_time": "2018-09-22T15:08:22.173526Z",
     "start_time": "2018-09-22T15:08:22.161528Z"
    }
   },
   "outputs": [
    {
     "data": {
      "text/plain": [
       "37.99259277034375"
      ]
     },
     "execution_count": 45,
     "metadata": {},
     "output_type": "execute_result"
    }
   ],
   "source": [
    "lm3.intercept_"
   ]
  },
  {
   "cell_type": "code",
   "execution_count": 46,
   "metadata": {
    "ExecuteTime": {
     "end_time": "2018-09-22T15:08:22.833361Z",
     "start_time": "2018-09-22T15:08:22.821361Z"
    }
   },
   "outputs": [
    {
     "data": {
      "text/plain": [
       "array([-1.19858618e-01,  4.44233009e-02,  1.18612465e-02,  2.51295058e+00,\n",
       "       -1.62710374e+01,  3.84909910e+00, -9.85471557e-03, -1.50002715e+00,\n",
       "        2.41507916e-01, -1.10671867e-02, -1.01897720e+00,  6.95273216e-03,\n",
       "       -4.88110587e-01])"
      ]
     },
     "execution_count": 46,
     "metadata": {},
     "output_type": "execute_result"
    }
   ],
   "source": [
    "lm3.coef_"
   ]
  },
  {
   "cell_type": "code",
   "execution_count": 47,
   "metadata": {
    "ExecuteTime": {
     "end_time": "2018-09-22T16:50:14.171731Z",
     "start_time": "2018-09-22T16:50:13.955786Z"
    }
   },
   "outputs": [
    {
     "data": {
      "text/plain": [
       "Text(0,0.5,'Predictions')"
      ]
     },
     "execution_count": 47,
     "metadata": {},
     "output_type": "execute_result"
    },
    {
     "data": {
      "image/png": "[encoded data removed]",
      "text/plain": [
       "<matplotlib.figure.Figure at 0x1db63e6bb70>"
      ]
     },
     "metadata": {},
     "output_type": "display_data"
    }
   ],
   "source": [
    "## The line / model\n",
    "plt.scatter(y_test, predictions)\n",
    "plt.xlabel('True Values')\n",
    "plt.ylabel('Predictions')"
   ]
  },
  {
   "cell_type": "code",
   "execution_count": null,
   "metadata": {},
   "outputs": [],
   "source": []
  }
 ],
 "metadata": {
  "kernelspec": {
   "display_name": "Python 3",
   "language": "python",
   "name": "python3"
  },
  "language_info": {
   "codemirror_mode": {
    "name": "ipython",
    "version": 3
   },
   "file_extension": ".py",
   "mimetype": "text/x-python",
   "name": "python",
   "nbconvert_exporter": "python",
   "pygments_lexer": "ipython3",
   "version": "3.6.4"
  }
 },
 "nbformat": 4,
 "nbformat_minor": 2
}
